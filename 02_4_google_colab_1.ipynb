{
  "nbformat": 4,
  "nbformat_minor": 0,
  "metadata": {
    "colab": {
      "name": "02_4_google_colab_1.ipynb",
      "version": "0.3.2",
      "provenance": [],
      "collapsed_sections": [],
      "toc_visible": true,
      "include_colab_link": true
    },
    "kernelspec": {
      "name": "python3",
      "display_name": "Python 3"
    }
  },
  "cells": [
    {
      "cell_type": "markdown",
      "metadata": {
        "id": "view-in-github",
        "colab_type": "text"
      },
      "source": [
        "<a href=\"https://colab.research.google.com/github/samlee7841/python/blob/master/02_4_google_colab_1.ipynb\" target=\"_parent\"><img src=\"https://colab.research.google.com/assets/colab-badge.svg\" alt=\"Open In Colab\"/></a>"
      ]
    },
    {
      "cell_type": "markdown",
      "metadata": {
        "id": "hzw8xES4eoZw",
        "colab_type": "text"
      },
      "source": [
        "# 02-4.Google Colaboratory 사용법1\n",
        "\n",
        "## 목차\n",
        "\n",
        "## 1. ipynb in Colaboratory \n",
        "\n",
        "### 1-1. ipynb 파일 만들기\n",
        "\n",
        "### 1-2. 코드 실행\n",
        "\n",
        "## 2.마크다운 사용법\n",
        "\n",
        "### 2-1. 마크다운이란?\n",
        "\n",
        "### 2-2. 배우는 이유\n",
        "\n",
        "### 2-3. 간단한 사용법\n",
        "\n",
        "### 2-3-1. 코드 셀 <-> 마크다운 셀 변환\n",
        "\n",
        "### 2-3-2. 글자 크기 변환\n",
        "\n",
        "## 3. 개발 환경\n",
        "\n",
        "### 3-1. 라이브러리란?\n",
        "\n",
        "### 3-2. install\n",
        "\n",
        "### 3-2. import"
      ]
    },
    {
      "cell_type": "markdown",
      "metadata": {
        "id": "oX-f4wXU_kg4",
        "colab_type": "text"
      },
      "source": [
        "## 1. ipynb in Colaboratory \n",
        "\n",
        "### 1-1. ipynb 파일 만들기"
      ]
    },
    {
      "cell_type": "markdown",
      "metadata": {
        "id": "pyFiJ2yw-UDr",
        "colab_type": "text"
      },
      "source": [
        "![image](https://user-images.githubusercontent.com/42320146/61222674-1ef66100-a756-11e9-9880-b5bad82a27a0.png)\n"
      ]
    },
    {
      "cell_type": "markdown",
      "metadata": {
        "id": "Zwga5QhF_5ci",
        "colab_type": "text"
      },
      "source": [
        "### 1-2. 코드 실행"
      ]
    },
    {
      "cell_type": "markdown",
      "metadata": {
        "id": "MwtR7bsg9NlO",
        "colab_type": "text"
      },
      "source": [
        "![image](https://user-images.githubusercontent.com/42320146/61222545-dd65b600-a755-11e9-9c2a-8fa7fc392fd6.png)\n"
      ]
    },
    {
      "cell_type": "markdown",
      "metadata": {
        "id": "tzR6GfqLQgpk",
        "colab_type": "text"
      },
      "source": [
        "## 1. 마크다운 사용법\n",
        "\n",
        "### 1-1. 마크다운이란?\n",
        "\n",
        "<pre>\n",
        "\n",
        "마크다운이란 보기쉬운 문서형태로 \n",
        "\n",
        "만들 수 있게 하는 언어입니다.\n",
        "\n",
        "ipynb파일은 마크다운을 지원합니다.\n",
        "\n",
        "</pre>"
      ]
    },
    {
      "cell_type": "code",
      "metadata": {
        "id": "nDXLzSvqjyux",
        "colab_type": "code",
        "colab": {}
      },
      "source": [
        "# 1-2. 배우는 이유\n",
        "\n",
        "# 당장 이렇게 주석으로 다는 것 보다 보기 좋습니다."
      ],
      "execution_count": 0,
      "outputs": []
    },
    {
      "cell_type": "markdown",
      "metadata": {
        "id": "TKwGBaxbvQkN",
        "colab_type": "text"
      },
      "source": [
        "## 1-3. 간단한 사용법\n",
        "\n",
        "### 1-3-1. 코드 셀 <-> 마크다운 셀 변환\n",
        "\n"
      ]
    },
    {
      "cell_type": "markdown",
      "metadata": {
        "id": "SUt-JO58yBqe",
        "colab_type": "text"
      },
      "source": [
        "###코드셀"
      ]
    },
    {
      "cell_type": "markdown",
      "metadata": {
        "id": "x5HqARfayLqV",
        "colab_type": "text"
      },
      "source": [
        "### 마크다운 셀"
      ]
    },
    {
      "cell_type": "markdown",
      "metadata": {
        "id": "LbjqUJufy2bf",
        "colab_type": "text"
      },
      "source": [
        "### Shift+Ent로 이전 셀을 실행하면 코드 셀이 만들어집니다."
      ]
    },
    {
      "cell_type": "markdown",
      "metadata": {
        "id": "QkBwKWmEzFhj",
        "colab_type": "text"
      },
      "source": [
        "#이렇게"
      ]
    },
    {
      "cell_type": "markdown",
      "metadata": {
        "id": "NmH_VsWDzGeV",
        "colab_type": "text"
      },
      "source": [
        "### 애초에 만들때 마크다운 셀이나 코드 셀로 만들 수 도 있습니다.\n",
        "\n",
        "### 하단에 표시된 영역에 마우스를 갖다 대면  +코드 , +텍스트 가 뜹니다."
      ]
    },
    {
      "cell_type": "markdown",
      "metadata": {
        "id": "sP1hdCHD3qUM",
        "colab_type": "text"
      },
      "source": [
        "![image](https://user-images.githubusercontent.com/42320146/61220658-bc9b6180-a751-11e9-9965-81ed4d85d08f.png)"
      ]
    },
    {
      "cell_type": "code",
      "metadata": {
        "id": "lcaaJovi5uOa",
        "colab_type": "code",
        "outputId": "38f3b1d2-bfdf-4f44-9509-3856b7f72801",
        "colab": {
          "base_uri": "https://localhost:8080/",
          "height": 136
        }
      },
      "source": [
        "단축키가 있습니다.\n",
        "코드 셀 -> 텍스트 셀 : Ctrl + M M\n",
        "텍스트 셀 -> 코드 셀 : Ctrl + M Y"
      ],
      "execution_count": 0,
      "outputs": [
        {
          "output_type": "error",
          "ename": "SyntaxError",
          "evalue": "ignored",
          "traceback": [
            "\u001b[0;36m  File \u001b[0;32m\"<ipython-input-4-f5492ff748f9>\"\u001b[0;36m, line \u001b[0;32m1\u001b[0m\n\u001b[0;31m    단축키가 있습니다.\u001b[0m\n\u001b[0m            ^\u001b[0m\n\u001b[0;31mSyntaxError\u001b[0m\u001b[0;31m:\u001b[0m invalid syntax\n"
          ]
        }
      ]
    },
    {
      "cell_type": "code",
      "metadata": {
        "id": "jgcrjAOK3sE_",
        "colab_type": "code",
        "colab": {}
      },
      "source": [
        "### 단축키가 있습니다.\n",
        "\n",
        "### 코드 셀 -> 텍스트 셀 : Ctrl + M M\n",
        "\n",
        "### 텍스트 셀 -> 코드 셀 : Ctrl + M Y"
      ],
      "execution_count": 0,
      "outputs": []
    },
    {
      "cell_type": "markdown",
      "metadata": {
        "id": "Fs4WwtFl5Svy",
        "colab_type": "text"
      },
      "source": [
        "### 이렇게 셀 상태에서 실행하면 에러가 뜨게 됩니다.\n",
        "왜냐하면 컴퓨터는 이걸 이해 못하거든요.\n",
        "\n",
        "### 그래서 셀에서는 #으로 주석처리 합니다.\n",
        "주석 처리한 부분은 코드 셀 에서는 보이지만 \n",
        "출력되지 않습니다."
      ]
    },
    {
      "cell_type": "code",
      "metadata": {
        "id": "W--f-gke562p",
        "colab_type": "code",
        "outputId": "3713852c-0dc3-480f-8b4c-82776d505605",
        "colab": {
          "base_uri": "https://localhost:8080/",
          "height": 34
        }
      },
      "source": [
        "# 단축키가 있습니다.\n",
        "# 코드 셀 -> 텍스트 셀 : Ctrl + M M\n",
        "# 텍스트 셀 -> 코드 셀 : Ctrl + M Y\n",
        "print('hello')"
      ],
      "execution_count": 0,
      "outputs": [
        {
          "output_type": "stream",
          "text": [
            "hello\n"
          ],
          "name": "stdout"
        }
      ]
    },
    {
      "cell_type": "markdown",
      "metadata": {
        "id": "6_VdiEqp4-5b",
        "colab_type": "text"
      },
      "source": [
        "### 1-3-2. 글자 크기 변환\n",
        "\n",
        "마크다운 셀에서 글자 크기는 다음과 같이 조절합니다.\n",
        "\n",
        "<pre>\n",
        "\n",
        "# 제목\n",
        "\n",
        "## 제목1\n",
        "\n",
        "### 제목2\n",
        "\n",
        "#### 제목3\n",
        "\n",
        "##### 제목4\n",
        "\n",
        "###### 제목5\n",
        "\n",
        "###### 제목6\n",
        "\n",
        "내용1\n",
        "\n",
        "</pre>"
      ]
    },
    {
      "cell_type": "markdown",
      "metadata": {
        "id": "duwMyPOr5Jlq",
        "colab_type": "text"
      },
      "source": [
        "# 제목\n",
        "\n",
        "## 제목1\n",
        "\n",
        "### 제목2\n",
        "\n",
        "#### 제목3\n",
        "\n",
        "##### 제목4\n",
        "\n",
        "###### 제목5\n",
        "\n",
        "내용1"
      ]
    },
    {
      "cell_type": "markdown",
      "metadata": {
        "id": "-ppNPeUk4t9D",
        "colab_type": "text"
      },
      "source": [
        "### 마크다운 문법은 이것 까지만 하겠습니다. 당장 사용할건 이것과 코드 정도 일테니까요.\n",
        "\n",
        "더 많은 것을 알고 싶으신 분들은 \n",
        "\n",
        "https://gist.github.com/ihoneymon/652be052a0727ad59601\n",
        "\n",
        "이곳을 참고하시거나, \n",
        "\n",
        "마크다운 문법을 검색하시면 다양한 자료를 찾으실 수 있어요."
      ]
    },
    {
      "cell_type": "markdown",
      "metadata": {
        "id": "b3gIH9GsGQGm",
        "colab_type": "text"
      },
      "source": [
        "## 3. 개발 환경\n",
        "\n",
        "### 3-1. 라이브러리란?\n",
        "<pre>\n",
        "특정한 목적을 하는 함수들의 묶음\n",
        "함수란 우리가 컴퓨터에게 시키고자 하는 일에 해당합니다.\n",
        "예금, 출금, 계좌이체 이런걸 함수라고 볼 수 있지요.\n",
        "</pre>\n",
        "\n",
        "### 개발환경이란?\n",
        "<pre>\n",
        "특정한 목적을 하는 라이브러리를 설치하고 불러오는 것.\n",
        "예금, 출금, 계좌이체는 은행업무에 속하겠지요?\n",
        "은행 업무처럼 특정 역할을 하는 함수들의 묶음을 라이브러리 라고 합니다."
      ]
    },
    {
      "cell_type": "markdown",
      "metadata": {
        "id": "J65C95RoHaoT",
        "colab_type": "text"
      },
      "source": [
        "### 3-2. install\n",
        "\n",
        "라이브러리 설치합니다.\n",
        "\n",
        "\n",
        "\n",
        "### !pip install 라이브러리 이름\n",
        "\n"
      ]
    },
    {
      "cell_type": "code",
      "metadata": {
        "id": "hGOjoZt-2_xB",
        "colab_type": "code",
        "outputId": "104f3ac3-3a69-4b12-aaaa-607423573f07",
        "colab": {
          "base_uri": "https://localhost:8080/",
          "height": 104
        }
      },
      "source": [
        "!pip install pandas"
      ],
      "execution_count": 0,
      "outputs": [
        {
          "output_type": "stream",
          "text": [
            "Requirement already satisfied: pandas in /usr/local/lib/python3.6/dist-packages (0.24.2)\n",
            "Requirement already satisfied: python-dateutil>=2.5.0 in /usr/local/lib/python3.6/dist-packages (from pandas) (2.5.3)\n",
            "Requirement already satisfied: pytz>=2011k in /usr/local/lib/python3.6/dist-packages (from pandas) (2018.9)\n",
            "Requirement already satisfied: numpy>=1.12.0 in /usr/local/lib/python3.6/dist-packages (from pandas) (1.16.4)\n",
            "Requirement already satisfied: six>=1.5 in /usr/local/lib/python3.6/dist-packages (from python-dateutil>=2.5.0->pandas) (1.12.0)\n"
          ],
          "name": "stdout"
        }
      ]
    },
    {
      "cell_type": "code",
      "metadata": {
        "id": "QTdrdnfBINrT",
        "colab_type": "code",
        "outputId": "c8005567-436c-4692-b88c-14f99aaf2e1b",
        "colab": {
          "base_uri": "https://localhost:8080/",
          "height": 52
        }
      },
      "source": [
        "!pip install bs4"
      ],
      "execution_count": 0,
      "outputs": [
        {
          "output_type": "stream",
          "text": [
            "Requirement already satisfied: bs4 in /usr/local/lib/python3.6/dist-packages (0.0.1)\n",
            "Requirement already satisfied: beautifulsoup4 in /usr/local/lib/python3.6/dist-packages (from bs4) (4.6.3)\n"
          ],
          "name": "stdout"
        }
      ]
    },
    {
      "cell_type": "code",
      "metadata": {
        "id": "1PcxdYodIfAL",
        "colab_type": "code",
        "outputId": "80dcd257-8fdc-45f7-a6c1-3932653e64af",
        "colab": {
          "base_uri": "https://localhost:8080/",
          "height": 121
        }
      },
      "source": [
        "!pip install selenium"
      ],
      "execution_count": 0,
      "outputs": [
        {
          "output_type": "stream",
          "text": [
            "Collecting selenium\n",
            "\u001b[?25l  Downloading https://files.pythonhosted.org/packages/80/d6/4294f0b4bce4de0abf13e17190289f9d0613b0a44e5dd6a7f5ca98459853/selenium-3.141.0-py2.py3-none-any.whl (904kB)\n",
            "\u001b[K     |████████████████████████████████| 911kB 2.8MB/s \n",
            "\u001b[?25hRequirement already satisfied: urllib3 in /usr/local/lib/python3.6/dist-packages (from selenium) (1.24.3)\n",
            "Installing collected packages: selenium\n",
            "Successfully installed selenium-3.141.0\n"
          ],
          "name": "stdout"
        }
      ]
    },
    {
      "cell_type": "markdown",
      "metadata": {
        "id": "da-pO02GIMcb",
        "colab_type": "text"
      },
      "source": [
        "### 3-2. import\n",
        "\n",
        "라이브러리를 사용하기 위해 불러옵니다.\n",
        "\n",
        "\n",
        "\n",
        "### import 라이브러리 이름"
      ]
    },
    {
      "cell_type": "code",
      "metadata": {
        "id": "_LoWlcbkKCPw",
        "colab_type": "code",
        "colab": {}
      },
      "source": [
        "# 판다스 라는 라이브러리를 불러온다\n",
        "import pandas"
      ],
      "execution_count": 0,
      "outputs": []
    },
    {
      "cell_type": "code",
      "metadata": {
        "id": "NXOVZW_i1Ivv",
        "colab_type": "code",
        "outputId": "6ab0060b-4a03-4f2b-fa43-10863fc156d3",
        "colab": {
          "base_uri": "https://localhost:8080/",
          "height": 34
        }
      },
      "source": [
        "# 리눅스에서 현재 위치를 알 수 있는 커맨드(코드) 당장 중요한건 아님.\n",
        "!pwd"
      ],
      "execution_count": 0,
      "outputs": [
        {
          "output_type": "stream",
          "text": [
            "/content\n"
          ],
          "name": "stdout"
        }
      ]
    },
    {
      "cell_type": "code",
      "metadata": {
        "id": "j8haPqL30lvy",
        "colab_type": "code",
        "colab": {}
      },
      "source": [
        "# pandas라고 다 써야함.\n",
        "df = pandas.read_csv('baseball_WD_data2.csv')"
      ],
      "execution_count": 0,
      "outputs": []
    },
    {
      "cell_type": "code",
      "metadata": {
        "id": "OghLpg511T1T",
        "colab_type": "code",
        "outputId": "5a07709f-a7ed-4c6c-b929-bb1ac6fca4a2",
        "colab": {
          "base_uri": "https://localhost:8080/",
          "height": 196
        }
      },
      "source": [
        "df.head()"
      ],
      "execution_count": 0,
      "outputs": [
        {
          "output_type": "execute_result",
          "data": {
            "text/html": [
              "<div>\n",
              "<style scoped>\n",
              "    .dataframe tbody tr th:only-of-type {\n",
              "        vertical-align: middle;\n",
              "    }\n",
              "\n",
              "    .dataframe tbody tr th {\n",
              "        vertical-align: top;\n",
              "    }\n",
              "\n",
              "    .dataframe thead th {\n",
              "        text-align: right;\n",
              "    }\n",
              "</style>\n",
              "<table border=\"1\" class=\"dataframe\">\n",
              "  <thead>\n",
              "    <tr style=\"text-align: right;\">\n",
              "      <th></th>\n",
              "      <th>year</th>\n",
              "      <th>rank</th>\n",
              "      <th>team</th>\n",
              "      <th>G</th>\n",
              "      <th>W</th>\n",
              "      <th>T</th>\n",
              "      <th>D</th>\n",
              "      <th>WR</th>\n",
              "      <th>PW</th>\n",
              "      <th>R/G</th>\n",
              "      <th>RS</th>\n",
              "      <th>RA</th>\n",
              "      <th>BA</th>\n",
              "      <th>OBP</th>\n",
              "      <th>SLG</th>\n",
              "      <th>OOBP</th>\n",
              "      <th>OSLG</th>\n",
              "      <th>OPS</th>\n",
              "    </tr>\n",
              "  </thead>\n",
              "  <tbody>\n",
              "    <tr>\n",
              "      <th>0</th>\n",
              "      <td>2015</td>\n",
              "      <td>1</td>\n",
              "      <td>삼성</td>\n",
              "      <td>144</td>\n",
              "      <td>88</td>\n",
              "      <td>0</td>\n",
              "      <td>56</td>\n",
              "      <td>0.611</td>\n",
              "      <td>0.601</td>\n",
              "      <td>6.23</td>\n",
              "      <td>897</td>\n",
              "      <td>716</td>\n",
              "      <td>0.302</td>\n",
              "      <td>0.378</td>\n",
              "      <td>0.469</td>\n",
              "      <td>0.332</td>\n",
              "      <td>0.441</td>\n",
              "      <td>0.847</td>\n",
              "    </tr>\n",
              "    <tr>\n",
              "      <th>1</th>\n",
              "      <td>2015</td>\n",
              "      <td>2</td>\n",
              "      <td>NC</td>\n",
              "      <td>144</td>\n",
              "      <td>84</td>\n",
              "      <td>3</td>\n",
              "      <td>57</td>\n",
              "      <td>0.596</td>\n",
              "      <td>0.613</td>\n",
              "      <td>5.86</td>\n",
              "      <td>844</td>\n",
              "      <td>655</td>\n",
              "      <td>0.289</td>\n",
              "      <td>0.367</td>\n",
              "      <td>0.455</td>\n",
              "      <td>0.336</td>\n",
              "      <td>0.409</td>\n",
              "      <td>0.822</td>\n",
              "    </tr>\n",
              "    <tr>\n",
              "      <th>2</th>\n",
              "      <td>2015</td>\n",
              "      <td>3</td>\n",
              "      <td>두산</td>\n",
              "      <td>144</td>\n",
              "      <td>79</td>\n",
              "      <td>0</td>\n",
              "      <td>65</td>\n",
              "      <td>0.549</td>\n",
              "      <td>0.518</td>\n",
              "      <td>5.60</td>\n",
              "      <td>807</td>\n",
              "      <td>776</td>\n",
              "      <td>0.290</td>\n",
              "      <td>0.370</td>\n",
              "      <td>0.435</td>\n",
              "      <td>0.362</td>\n",
              "      <td>0.422</td>\n",
              "      <td>0.805</td>\n",
              "    </tr>\n",
              "    <tr>\n",
              "      <th>3</th>\n",
              "      <td>2015</td>\n",
              "      <td>4</td>\n",
              "      <td>넥센</td>\n",
              "      <td>144</td>\n",
              "      <td>78</td>\n",
              "      <td>1</td>\n",
              "      <td>65</td>\n",
              "      <td>0.545</td>\n",
              "      <td>0.561</td>\n",
              "      <td>6.28</td>\n",
              "      <td>904</td>\n",
              "      <td>790</td>\n",
              "      <td>0.298</td>\n",
              "      <td>0.372</td>\n",
              "      <td>0.486</td>\n",
              "      <td>0.355</td>\n",
              "      <td>0.427</td>\n",
              "      <td>0.858</td>\n",
              "    </tr>\n",
              "    <tr>\n",
              "      <th>4</th>\n",
              "      <td>2015</td>\n",
              "      <td>5</td>\n",
              "      <td>SK</td>\n",
              "      <td>144</td>\n",
              "      <td>69</td>\n",
              "      <td>2</td>\n",
              "      <td>73</td>\n",
              "      <td>0.486</td>\n",
              "      <td>0.480</td>\n",
              "      <td>4.81</td>\n",
              "      <td>693</td>\n",
              "      <td>724</td>\n",
              "      <td>0.272</td>\n",
              "      <td>0.349</td>\n",
              "      <td>0.410</td>\n",
              "      <td>0.349</td>\n",
              "      <td>0.427</td>\n",
              "      <td>0.759</td>\n",
              "    </tr>\n",
              "  </tbody>\n",
              "</table>\n",
              "</div>"
            ],
            "text/plain": [
              "   year  rank team    G   W  T  ...     BA    OBP    SLG   OOBP   OSLG    OPS\n",
              "0  2015     1   삼성  144  88  0  ...  0.302  0.378  0.469  0.332  0.441  0.847\n",
              "1  2015     2   NC  144  84  3  ...  0.289  0.367  0.455  0.336  0.409  0.822\n",
              "2  2015     3   두산  144  79  0  ...  0.290  0.370  0.435  0.362  0.422  0.805\n",
              "3  2015     4   넥센  144  78  1  ...  0.298  0.372  0.486  0.355  0.427  0.858\n",
              "4  2015     5   SK  144  69  2  ...  0.272  0.349  0.410  0.349  0.427  0.759\n",
              "\n",
              "[5 rows x 18 columns]"
            ]
          },
          "metadata": {
            "tags": []
          },
          "execution_count": 9
        }
      ]
    },
    {
      "cell_type": "code",
      "metadata": {
        "id": "TZWwnQ3rujjZ",
        "colab_type": "code",
        "colab": {}
      },
      "source": [
        "# 판다스라는 라이브러리를 불러와서 pd로 사용한다.\n",
        "import pandas as pd"
      ],
      "execution_count": 0,
      "outputs": []
    },
    {
      "cell_type": "code",
      "metadata": {
        "id": "BpNaH9B01YV3",
        "colab_type": "code",
        "outputId": "5a2c3125-2eab-4745-ef8e-525175036fc4",
        "colab": {
          "base_uri": "https://localhost:8080/",
          "height": 196
        }
      },
      "source": [
        "# pd 로 줄여서 쓸 수 있다.\n",
        "df = pd.read_csv('baseball_WD_data2.csv')\n",
        "df.head()"
      ],
      "execution_count": 0,
      "outputs": [
        {
          "output_type": "execute_result",
          "data": {
            "text/html": [
              "<div>\n",
              "<style scoped>\n",
              "    .dataframe tbody tr th:only-of-type {\n",
              "        vertical-align: middle;\n",
              "    }\n",
              "\n",
              "    .dataframe tbody tr th {\n",
              "        vertical-align: top;\n",
              "    }\n",
              "\n",
              "    .dataframe thead th {\n",
              "        text-align: right;\n",
              "    }\n",
              "</style>\n",
              "<table border=\"1\" class=\"dataframe\">\n",
              "  <thead>\n",
              "    <tr style=\"text-align: right;\">\n",
              "      <th></th>\n",
              "      <th>year</th>\n",
              "      <th>rank</th>\n",
              "      <th>team</th>\n",
              "      <th>G</th>\n",
              "      <th>W</th>\n",
              "      <th>T</th>\n",
              "      <th>D</th>\n",
              "      <th>WR</th>\n",
              "      <th>PW</th>\n",
              "      <th>R/G</th>\n",
              "      <th>RS</th>\n",
              "      <th>RA</th>\n",
              "      <th>BA</th>\n",
              "      <th>OBP</th>\n",
              "      <th>SLG</th>\n",
              "      <th>OOBP</th>\n",
              "      <th>OSLG</th>\n",
              "      <th>OPS</th>\n",
              "    </tr>\n",
              "  </thead>\n",
              "  <tbody>\n",
              "    <tr>\n",
              "      <th>0</th>\n",
              "      <td>2015</td>\n",
              "      <td>1</td>\n",
              "      <td>삼성</td>\n",
              "      <td>144</td>\n",
              "      <td>88</td>\n",
              "      <td>0</td>\n",
              "      <td>56</td>\n",
              "      <td>0.611</td>\n",
              "      <td>0.601</td>\n",
              "      <td>6.23</td>\n",
              "      <td>897</td>\n",
              "      <td>716</td>\n",
              "      <td>0.302</td>\n",
              "      <td>0.378</td>\n",
              "      <td>0.469</td>\n",
              "      <td>0.332</td>\n",
              "      <td>0.441</td>\n",
              "      <td>0.847</td>\n",
              "    </tr>\n",
              "    <tr>\n",
              "      <th>1</th>\n",
              "      <td>2015</td>\n",
              "      <td>2</td>\n",
              "      <td>NC</td>\n",
              "      <td>144</td>\n",
              "      <td>84</td>\n",
              "      <td>3</td>\n",
              "      <td>57</td>\n",
              "      <td>0.596</td>\n",
              "      <td>0.613</td>\n",
              "      <td>5.86</td>\n",
              "      <td>844</td>\n",
              "      <td>655</td>\n",
              "      <td>0.289</td>\n",
              "      <td>0.367</td>\n",
              "      <td>0.455</td>\n",
              "      <td>0.336</td>\n",
              "      <td>0.409</td>\n",
              "      <td>0.822</td>\n",
              "    </tr>\n",
              "    <tr>\n",
              "      <th>2</th>\n",
              "      <td>2015</td>\n",
              "      <td>3</td>\n",
              "      <td>두산</td>\n",
              "      <td>144</td>\n",
              "      <td>79</td>\n",
              "      <td>0</td>\n",
              "      <td>65</td>\n",
              "      <td>0.549</td>\n",
              "      <td>0.518</td>\n",
              "      <td>5.60</td>\n",
              "      <td>807</td>\n",
              "      <td>776</td>\n",
              "      <td>0.290</td>\n",
              "      <td>0.370</td>\n",
              "      <td>0.435</td>\n",
              "      <td>0.362</td>\n",
              "      <td>0.422</td>\n",
              "      <td>0.805</td>\n",
              "    </tr>\n",
              "    <tr>\n",
              "      <th>3</th>\n",
              "      <td>2015</td>\n",
              "      <td>4</td>\n",
              "      <td>넥센</td>\n",
              "      <td>144</td>\n",
              "      <td>78</td>\n",
              "      <td>1</td>\n",
              "      <td>65</td>\n",
              "      <td>0.545</td>\n",
              "      <td>0.561</td>\n",
              "      <td>6.28</td>\n",
              "      <td>904</td>\n",
              "      <td>790</td>\n",
              "      <td>0.298</td>\n",
              "      <td>0.372</td>\n",
              "      <td>0.486</td>\n",
              "      <td>0.355</td>\n",
              "      <td>0.427</td>\n",
              "      <td>0.858</td>\n",
              "    </tr>\n",
              "    <tr>\n",
              "      <th>4</th>\n",
              "      <td>2015</td>\n",
              "      <td>5</td>\n",
              "      <td>SK</td>\n",
              "      <td>144</td>\n",
              "      <td>69</td>\n",
              "      <td>2</td>\n",
              "      <td>73</td>\n",
              "      <td>0.486</td>\n",
              "      <td>0.480</td>\n",
              "      <td>4.81</td>\n",
              "      <td>693</td>\n",
              "      <td>724</td>\n",
              "      <td>0.272</td>\n",
              "      <td>0.349</td>\n",
              "      <td>0.410</td>\n",
              "      <td>0.349</td>\n",
              "      <td>0.427</td>\n",
              "      <td>0.759</td>\n",
              "    </tr>\n",
              "  </tbody>\n",
              "</table>\n",
              "</div>"
            ],
            "text/plain": [
              "   year  rank team    G   W  T  ...     BA    OBP    SLG   OOBP   OSLG    OPS\n",
              "0  2015     1   삼성  144  88  0  ...  0.302  0.378  0.469  0.332  0.441  0.847\n",
              "1  2015     2   NC  144  84  3  ...  0.289  0.367  0.455  0.336  0.409  0.822\n",
              "2  2015     3   두산  144  79  0  ...  0.290  0.370  0.435  0.362  0.422  0.805\n",
              "3  2015     4   넥센  144  78  1  ...  0.298  0.372  0.486  0.355  0.427  0.858\n",
              "4  2015     5   SK  144  69  2  ...  0.272  0.349  0.410  0.349  0.427  0.759\n",
              "\n",
              "[5 rows x 18 columns]"
            ]
          },
          "metadata": {
            "tags": []
          },
          "execution_count": 12
        }
      ]
    },
    {
      "cell_type": "markdown",
      "metadata": {
        "id": "BxTC6FL9uR9J",
        "colab_type": "text"
      },
      "source": [
        "### 결론 : 라이브러리를 import로 불러와서 사용할 수 있다는 것이 요지입니다."
      ]
    },
    {
      "cell_type": "markdown",
      "metadata": {
        "id": "2WTlni6b7yoI",
        "colab_type": "text"
      },
      "source": [
        "### +a 지금은 몰라도 나중엔 겪게 될 것.\n",
        "\n",
        "\n",
        "\n",
        "### 컴퓨터에 설치한 아나콘다와 colab에서의 라이브러리 사용법 차이?\n",
        "\n",
        "1. 컴퓨터의 아나콘다 \n",
        "\n",
        "    install : 한번만 해도 됩니다.\n",
        "\n",
        "    import : 파이썬 파일을 새로 열 때 마다 실행해줘야 합니다.\n",
        "\n",
        "2. colab\n",
        "\n",
        "    install : 매번 다시 설치해주어야 합니다.\n",
        "\n",
        "    다만 요즘은 어지간한 라이브러리들이 이미 다 설치되어 있어서 import만 해도 될 수 있습니다.\n",
        "\n",
        "    import : 파이썬 파일을 새로 열 때 마다 실행해줘야 합니다."
      ]
    },
    {
      "cell_type": "code",
      "metadata": {
        "id": "P5bpVDEQ_rck",
        "colab_type": "code",
        "colab": {}
      },
      "source": [
        ""
      ],
      "execution_count": 0,
      "outputs": []
    }
  ]
}