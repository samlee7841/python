{
  "nbformat": 4,
  "nbformat_minor": 0,
  "metadata": {
    "colab": {
      "name": "이상균.ipynb",
      "version": "0.3.2",
      "provenance": [],
      "collapsed_sections": [],
      "include_colab_link": true
    },
    "kernelspec": {
      "name": "python3",
      "display_name": "Python 3"
    }
  },
  "cells": [
    {
      "cell_type": "markdown",
      "metadata": {
        "id": "view-in-github",
        "colab_type": "text"
      },
      "source": [
        "<a href=\"https://colab.research.google.com/github/samlee7841/python/blob/master/%EC%9D%B4%EC%83%81%EA%B7%A0.ipynb\" target=\"_parent\"><img src=\"https://colab.research.google.com/assets/colab-badge.svg\" alt=\"Open In Colab\"/></a>"
      ]
    },
    {
      "cell_type": "markdown",
      "metadata": {
        "id": "Li48qxdSRcz0",
        "colab_type": "text"
      },
      "source": [
        "<pre>\n",
        "단축키가 있습니다.\n",
        "\n",
        "\n",
        "코드 셀 -> 텍스트 셀 : Ctrl + M M\n",
        "\n",
        "\n",
        "텍스트 셀 -> 코드 셀 : Ctrl + M Y\n",
        "\n",
        "\n",
        "</pre>"
      ]
    },
    {
      "cell_type": "markdown",
      "metadata": {
        "id": "OSjSPFHzV4_K",
        "colab_type": "text"
      },
      "source": [
        "<pre>\n",
        "단축키가 있습니다.\n",
        "코드 셀 -> 텍스트 셀 : Ctrl + M M\n",
        "텍스트 셀 -> 코드 셀 : Ctrl + M Y\n",
        "</pre>\n",
        "    pre 사용시 닫아주어야 합니다."
      ]
    },
    {
      "cell_type": "markdown",
      "metadata": {
        "id": "omGMr8tLPYa9",
        "colab_type": "text"
      },
      "source": [
        "단축키가 있습니다.\n",
        "코드 셀 -> 텍스트 셀 : Ctrl + M M\n",
        "텍스트 셀 -> 코드 셀 : Ctrl + M Y\n"
      ]
    },
    {
      "cell_type": "code",
      "metadata": {
        "id": "vh_UY37wXIaC",
        "colab_type": "code",
        "colab": {
          "base_uri": "https://localhost:8080/",
          "height": 36
        },
        "outputId": "2838bce2-f1e7-426e-f480-4d42cddf1b52"
      },
      "source": [
        "# 단축키가 있습니다.\n",
        "# 코드 셀 -> 텍스트 셀 : Ctrl + M M\n",
        "# 텍스트 셀 -> 코드 셀 : Ctrl + M Y\n",
        "print('hello')"
      ],
      "execution_count": 4,
      "outputs": [
        {
          "output_type": "stream",
          "text": [
            "hello\n"
          ],
          "name": "stdout"
        }
      ]
    },
    {
      "cell_type": "markdown",
      "metadata": {
        "id": "DpWsRg6sXTX-",
        "colab_type": "text"
      },
      "source": [
        "# 제목\n",
        "\n",
        "## 제목1\n",
        "\n",
        "### 제목2\n",
        "\n",
        "#### 제목3\n",
        "\n",
        "##### 제목4\n",
        "\n",
        "###### 제목5\n",
        "\n",
        "###### 제목6\n",
        "\n",
        "######## 제목7\n",
        "\n",
        "내용1"
      ]
    },
    {
      "cell_type": "code",
      "metadata": {
        "id": "BIWs-kEcYDCh",
        "colab_type": "code",
        "colab": {}
      },
      "source": [
        ""
      ],
      "execution_count": 0,
      "outputs": []
    }
  ]
}